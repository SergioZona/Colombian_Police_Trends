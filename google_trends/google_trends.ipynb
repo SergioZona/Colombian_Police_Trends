{
  "cells": [
    {
      "cell_type": "markdown",
      "metadata": {
        "id": "cWOcKk0zBZWi"
      },
      "source": [
        "# **Google trends by Day**"
      ]
    },
    {
      "cell_type": "code",
      "execution_count": 11,
      "metadata": {
        "colab": {
          "base_uri": "https://localhost:8080/"
        },
        "id": "tdQkLqPVoWWU",
        "outputId": "84f8fc25-e95f-49cb-cfee-f527872bdb60"
      },
      "outputs": [],
      "source": [
        "from pytrends.request import TrendReq\n",
        "\n",
        "# hl: https://www.andiamo.co.uk/resources/iso-language-codes/\n",
        "\n",
        "# tz Colombia: 300\n",
        "data_path = '../data/'\n",
        "\n",
        "pytrends = TrendReq(hl='es-CO', tz=300)\n",
        "#pytrends = TrendReq(hl='en-US', tz=360) \n",
        "#pytrends = TrendReq(hl='es-CO', tz=300, timeout=(10,25), proxies=['https://34.203.233.13:80',], retries=2, backoff_factor=0.1, requests_args={'verify':False})"
      ]
    },
    {
      "cell_type": "code",
      "execution_count": 8,
      "metadata": {},
      "outputs": [],
      "source": [
        "from datetime import datetime, timedelta\n",
        "from dateutil.relativedelta import relativedelta\n",
        "\n",
        "def generate_date_ranges(start_date, end_date, months_interval):\n",
        "    \"\"\"\n",
        "    Generate date ranges with a specified interval.\n",
        "\n",
        "    Parameters:\n",
        "    - start_date (datetime): The start date.\n",
        "    - end_date (datetime): The end date.\n",
        "    - months_interval (int): The interval in months.\n",
        "\n",
        "    Returns:\n",
        "    - list: A list of tuples representing start and end dates for each interval.\n",
        "    \"\"\"\n",
        "\n",
        "    # Define the interval\n",
        "    interval = relativedelta(months=months_interval)\n",
        "\n",
        "    # Initialize the list to store dates\n",
        "    dates = []\n",
        "\n",
        "    # Iterate over the date range\n",
        "    current_date = start_date\n",
        "    while current_date <= end_date:\n",
        "        # Calculate the end date by adding the specified months interval\n",
        "        end_of_interval = current_date + interval\n",
        "\n",
        "        # Adjust the end date to the last day of the previous month\n",
        "        end_of_interval -= timedelta(days=1)\n",
        "\n",
        "        # Append the result to the list\n",
        "        dates.append(current_date.strftime(\"%Y-%m-%d\") +\" \" +end_of_interval.strftime(\"%Y-%m-%d\"))\n",
        "\n",
        "        # Move to the next iteration\n",
        "        current_date = end_of_interval + timedelta(days=1)\n",
        "\n",
        "    return dates\n",
        "\n",
        "# Example usage:\n",
        "start_date_example = datetime(2020, 1, 12)\n",
        "end_date_example = datetime(2023, 8, 31)\n",
        "months_interval_example = 6\n",
        "\n",
        "result = generate_date_ranges(start_date_example, end_date_example, months_interval_example)"
      ]
    },
    {
      "cell_type": "code",
      "execution_count": 9,
      "metadata": {},
      "outputs": [
        {
          "data": {
            "text/plain": [
              "['2020-01-12 2020-07-11',\n",
              " '2020-07-12 2021-01-11',\n",
              " '2021-01-12 2021-07-11',\n",
              " '2021-07-12 2022-01-11',\n",
              " '2022-01-12 2022-07-11',\n",
              " '2022-07-12 2023-01-11',\n",
              " '2023-01-12 2023-07-11',\n",
              " '2023-07-12 2024-01-11']"
            ]
          },
          "execution_count": 9,
          "metadata": {},
          "output_type": "execute_result"
        }
      ],
      "source": [
        "result"
      ]
    },
    {
      "cell_type": "code",
      "execution_count": 12,
      "metadata": {},
      "outputs": [],
      "source": [
        "# Doc: https://pypi.org/project/pytrends/\n",
        "# Git: https://github.com/GeneralMills/pytrends\n",
        "# Cat: https://github.com/pat310/google-trends-api/wiki/Google-Trends-Categories\n",
        "\n",
        "kw_list = [\"Policia\"]\n",
        "pytrends.build_payload(kw_list, cat=0, timeframe='2020-01-12 2020-07-11', geo='CO', gprop='')"
      ]
    },
    {
      "cell_type": "code",
      "execution_count": 13,
      "metadata": {},
      "outputs": [],
      "source": [
        "data = pytrends.interest_over_time()"
      ]
    },
    {
      "cell_type": "code",
      "execution_count": 16,
      "metadata": {},
      "outputs": [
        {
          "data": {
            "text/html": [
              "<div>\n",
              "<style scoped>\n",
              "    .dataframe tbody tr th:only-of-type {\n",
              "        vertical-align: middle;\n",
              "    }\n",
              "\n",
              "    .dataframe tbody tr th {\n",
              "        vertical-align: top;\n",
              "    }\n",
              "\n",
              "    .dataframe thead th {\n",
              "        text-align: right;\n",
              "    }\n",
              "</style>\n",
              "<table border=\"1\" class=\"dataframe\">\n",
              "  <thead>\n",
              "    <tr style=\"text-align: right;\">\n",
              "      <th></th>\n",
              "    </tr>\n",
              "  </thead>\n",
              "  <tbody>\n",
              "  </tbody>\n",
              "</table>\n",
              "</div>"
            ],
            "text/plain": [
              "Empty DataFrame\n",
              "Columns: []\n",
              "Index: []"
            ]
          },
          "execution_count": 16,
          "metadata": {},
          "output_type": "execute_result"
        }
      ],
      "source": [
        "data"
      ]
    },
    {
      "cell_type": "code",
      "execution_count": 44,
      "metadata": {},
      "outputs": [],
      "source": [
        "data.to_csv(data_path+'data_3y.csv')"
      ]
    },
    {
      "cell_type": "code",
      "execution_count": null,
      "metadata": {},
      "outputs": [],
      "source": []
    }
  ],
  "metadata": {
    "colab": {
      "provenance": []
    },
    "kernelspec": {
      "display_name": "Python 3",
      "name": "python3"
    },
    "language_info": {
      "codemirror_mode": {
        "name": "ipython",
        "version": 3
      },
      "file_extension": ".py",
      "mimetype": "text/x-python",
      "name": "python",
      "nbconvert_exporter": "python",
      "pygments_lexer": "ipython3",
      "version": "3.12.0"
    }
  },
  "nbformat": 4,
  "nbformat_minor": 0
}
