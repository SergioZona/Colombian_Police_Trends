{
  "cells": [
    {
      "cell_type": "markdown",
      "metadata": {
        "id": "cWOcKk0zBZWi"
      },
      "source": [
        "# **Google trends by Day**"
      ]
    },
    {
      "cell_type": "code",
      "execution_count": 69,
      "metadata": {
        "colab": {
          "base_uri": "https://localhost:8080/"
        },
        "id": "tdQkLqPVoWWU",
        "outputId": "84f8fc25-e95f-49cb-cfee-f527872bdb60"
      },
      "outputs": [],
      "source": [
        "import os\n",
        "import pandas as pd\n",
        "from datetime import datetime, timedelta\n",
        "from dateutil.relativedelta import relativedelta\n",
        "import time\n",
        "import random\n",
        "import pyautogui\n",
        "import pyperclip\n",
        "import win32gui\n",
        "import win32con\n",
        "\n",
        "data_path = '../data/'"
      ]
    },
    {
      "cell_type": "code",
      "execution_count": 70,
      "metadata": {},
      "outputs": [],
      "source": [
        "# Parameters\n",
        "start_date = datetime(2020, 1, 12) #YYYY-MM-DD\n",
        "end_date = datetime(2023, 8, 31) #YYYY-MM-DD\n",
        "months_interval = 6\n",
        "geo_location = 'CO-DC' # CO\n",
        "search_query = 'Policía'"
      ]
    },
    {
      "cell_type": "code",
      "execution_count": 71,
      "metadata": {},
      "outputs": [
        {
          "data": {
            "text/plain": [
              "['2020-01-12 2020-07-11',\n",
              " '2020-07-12 2021-01-11',\n",
              " '2021-01-12 2021-07-11',\n",
              " '2021-07-12 2022-01-11',\n",
              " '2022-01-12 2022-07-11',\n",
              " '2022-07-12 2023-01-11',\n",
              " '2023-01-12 2023-07-11',\n",
              " '2023-07-12 2023-08-31',\n",
              " '2020-01-12 2023-08-31']"
            ]
          },
          "execution_count": 71,
          "metadata": {},
          "output_type": "execute_result"
        }
      ],
      "source": [
        "def generate_date_ranges(start_date, end_date, months_interval):\n",
        "    \"\"\"\n",
        "    Generate date ranges with a specified interval.\n",
        "\n",
        "    Parameters:\n",
        "    - start_date (datetime): The start date.\n",
        "    - end_date (datetime): The end date.\n",
        "    - months_interval (int): The interval in months.\n",
        "\n",
        "    Returns:\n",
        "    - list: A list of tuples representing start and end dates for each interval.\n",
        "    \"\"\"\n",
        "\n",
        "    # Define the interval\n",
        "    interval = relativedelta(months=months_interval)\n",
        "\n",
        "    # Initialize the list to store dates\n",
        "    dates = []\n",
        "\n",
        "    # Iterate over the date range\n",
        "    current_date = start_date\n",
        "    while current_date <= end_date:\n",
        "        # Calculate the end date by adding the specified months interval\n",
        "        end_of_interval = current_date + interval\n",
        "\n",
        "        # Adjust the end date to the last day of the previous month\n",
        "        end_of_interval -= timedelta(days=1)\n",
        "\n",
        "        if end_of_interval > end_date:\n",
        "            dates.append(current_date.strftime(\"%Y-%m-%d\") +\" \" +end_date.strftime(\"%Y-%m-%d\"))\n",
        "        else:\n",
        "            # Append the result to the list\n",
        "            dates.append(current_date.strftime(\"%Y-%m-%d\") +\" \" +end_of_interval.strftime(\"%Y-%m-%d\"))\n",
        "\n",
        "        # Move to the next iteration\n",
        "        current_date = end_of_interval + timedelta(days=1)\n",
        "    \n",
        "    dates.append(start_date.strftime(\"%Y-%m-%d\") +\" \" + end_date.strftime(\"%Y-%m-%d\"))\n",
        "\n",
        "    return dates\n",
        "\n",
        "dates = generate_date_ranges(start_date, end_date, months_interval)\n",
        "dates"
      ]
    },
    {
      "cell_type": "code",
      "execution_count": 72,
      "metadata": {},
      "outputs": [],
      "source": [
        "# Assuming you have the following variables\n",
        "urls = []\n",
        "# Display the result\n",
        "for i in dates:\n",
        "    start_date = i.split(\" \")[0]\n",
        "    end_date = i.split(\" \")[1][2:]\n",
        "\n",
        "    url = f'https://trends.google.es/trends/explore?date={start_date}%2020{end_date}&geo={geo_location}&q={search_query}&hl=es'\n",
        "    urls.append(url)"
      ]
    },
    {
      "cell_type": "markdown",
      "metadata": {},
      "source": [
        "## **PyAutoGUI - Robot**\n"
      ]
    },
    {
      "cell_type": "code",
      "execution_count": 73,
      "metadata": {},
      "outputs": [],
      "source": [
        "def windowEnumHandler(hwnd, top_windows):\n",
        "    top_windows.append((hwnd, win32gui.GetWindowText(hwnd)))\n",
        "\n",
        "def bringToFront(window_name):\n",
        "    top_windows = []\n",
        "    win32gui.EnumWindows(windowEnumHandler, top_windows)\n",
        "    for i in top_windows:\n",
        "        # print(i[1])\n",
        "        if window_name.lower() in i[1].lower():\n",
        "            # print(\"found\", window_name)\n",
        "            win32gui.ShowWindow(i[0], win32con.SW_SHOWMAXIMIZED)\n",
        "            win32gui.SetForegroundWindow(i[0])\n",
        "            break\n",
        "\n",
        "def getData():\n",
        "    try:\n",
        "        for url in urls:\n",
        "            pyautogui.moveTo(300, 75, duration=1) # Position of search bar - Juan José (300, 75)\n",
        "            pyautogui.tripleClick()\n",
        "            time.sleep(random.uniform(0.5, 1))\n",
        "            pyautogui.press('delete')\n",
        "            time.sleep(random.uniform(0.5, 1))\n",
        "            pyperclip.copy(url)\n",
        "            pyautogui.hotkey(\"ctrl\", \"v\")\n",
        "            time.sleep(random.uniform(0.5, 1))\n",
        "            pyautogui.press('enter')\n",
        "            time.sleep(random.uniform(5, 7))\n",
        "            pyautogui.moveTo(1610, 710, duration=1) # Position for downloading - Juan José (1610, 710)\n",
        "            time.sleep(random.uniform(0.5, 1))\n",
        "            pyautogui.click()\n",
        "            time.sleep(random.uniform(10, 12)) # Sleep to avoid McCafee Error.\n",
        "    except KeyboardInterrupt:\n",
        "        print(\"Script terminated by user.\")\n",
        "\n",
        "# Run\n",
        "if __name__ == \"__main__\":\n",
        "    window_name = \"Google Chrome\"\n",
        "    bringToFront(window_name)\n",
        "    getData()"
      ]
    },
    {
      "cell_type": "markdown",
      "metadata": {},
      "source": [
        "## **Final processing**"
      ]
    },
    {
      "cell_type": "code",
      "execution_count": 74,
      "metadata": {},
      "outputs": [],
      "source": [
        "import os\n",
        "import pandas as pd\n",
        "\n",
        "def get_download_folder():\n",
        "    # Use the USERPROFILE environment variable on Windows\n",
        "    user_profile = os.environ.get('USERPROFILE')\n",
        "\n",
        "    # Check if USERPROFILE is set and points to a directory\n",
        "    if user_profile and os.path.isdir(user_profile):\n",
        "        # Construct the path to the Downloads folder\n",
        "        download_folder = os.path.join(user_profile, 'Downloads')\n",
        "        return download_folder\n",
        "    else:\n",
        "        # Default to the current working directory if environment variables are not set or invalid\n",
        "        return os.getcwd()\n",
        "\n",
        "# Get the default download folder path\n",
        "default_download_folder = get_download_folder()\n",
        "\n",
        "# Get a list of all files in the download folder\n",
        "files = os.listdir(default_download_folder)"
      ]
    },
    {
      "cell_type": "code",
      "execution_count": 75,
      "metadata": {},
      "outputs": [],
      "source": [
        "def get_all_trends(csv_files):\n",
        "    # Weekly data\n",
        "    weekly_path = os.path.join(default_download_folder, csv_files.pop(-1)) # Remove the last element from the list\n",
        "    weekly_data = pd.read_csv(weekly_path, encoding='utf-8', skiprows=3, names=['date', 'trends'])\n",
        "    os.remove(weekly_path)\n",
        "\n",
        "    # Daily data\n",
        "    # Read each CSV file and store it in a dictionary\n",
        "    daily_data = {}\n",
        "    for csv_file in csv_files:\n",
        "        file_path = os.path.join(default_download_folder, csv_file)\n",
        "        file_name = csv_file.split('.')[0] # Eliminate the extension\n",
        "        daily_data[file_name] = pd.read_csv(file_path, encoding='utf-8', skiprows=3, names=['date', 'trends'])\n",
        "        os.remove(file_path)         \n",
        "    # Concatenate all DataFrames in the dictionary into a single DataFrame\n",
        "    daily_trends = pd.concat(daily_data.values(), ignore_index=True)\n",
        "\n",
        "    # Sort the DataFrame by the 'date' column\n",
        "    daily_trends.sort_values(by='date', inplace=True)\n",
        "\n",
        "    return (daily_trends, weekly_data)"
      ]
    },
    {
      "cell_type": "code",
      "execution_count": 76,
      "metadata": {},
      "outputs": [],
      "source": [
        "# Filter files that start with 'multiTimeline' and have '.csv' extension\n",
        "csv_files = [file for file in files if file.startswith('multiTimeline') and file.endswith('.csv')]\n",
        "csv_files.sort(key=lambda x: os.path.getmtime(os.path.join(default_download_folder, x)), reverse=False)\n",
        "\n",
        "daily_data, weekly_data = get_all_trends(csv_files)\n",
        "\n",
        "daily_data.to_csv(os.path.join(data_path, 'final_trends', 'daily', f'{search_query}_daily.csv'), index=False)\n",
        "weekly_data.to_csv(os.path.join(data_path, 'final_trends', 'weekly', f'{search_query}_weekly.csv'), index=False)"
      ]
    },
    {
      "cell_type": "code",
      "execution_count": 77,
      "metadata": {},
      "outputs": [],
      "source": [
        "def adjust_trends(df1, df2):\n",
        "    col1 = 'trends_1'\n",
        "    col2 = 'trends_2'\n",
        "\n",
        "    # Merge dataframes\n",
        "    result_df = pd.merge(df2, df1, how='left', on='date', suffixes=('_2', '_1'))\n",
        "\n",
        "    # Forward fill the values in the 'Police_1' column\n",
        "    result_df[col1] = result_df[col1].ffill()\n",
        "\n",
        "    # result_df[col1] - Diario\n",
        "    # result_df[col2] - Semanal\n",
        "\n",
        "    result_df['trends'] = result_df[col1] * result_df[col2] /100\n",
        "\n",
        "    result_df.drop([col1, col2], axis=1, inplace=True)\n",
        "    return result_df"
      ]
    },
    {
      "cell_type": "code",
      "execution_count": 78,
      "metadata": {},
      "outputs": [],
      "source": [
        "final_data = adjust_trends(weekly_data, daily_data)\n",
        "final_data = final_data[['date','trends']]\n",
        "final_data.to_csv(os.path.join(data_path, 'final_trends', f'{search_query}_final.csv'), index=False)"
      ]
    },
    {
      "cell_type": "code",
      "execution_count": 79,
      "metadata": {},
      "outputs": [
        {
          "data": {
            "text/html": [
              "<div>\n",
              "<style scoped>\n",
              "    .dataframe tbody tr th:only-of-type {\n",
              "        vertical-align: middle;\n",
              "    }\n",
              "\n",
              "    .dataframe tbody tr th {\n",
              "        vertical-align: top;\n",
              "    }\n",
              "\n",
              "    .dataframe thead th {\n",
              "        text-align: right;\n",
              "    }\n",
              "</style>\n",
              "<table border=\"1\" class=\"dataframe\">\n",
              "  <thead>\n",
              "    <tr style=\"text-align: right;\">\n",
              "      <th></th>\n",
              "      <th>date</th>\n",
              "      <th>trends</th>\n",
              "    </tr>\n",
              "  </thead>\n",
              "  <tbody>\n",
              "    <tr>\n",
              "      <th>0</th>\n",
              "      <td>2020-01-12</td>\n",
              "      <td>13.65</td>\n",
              "    </tr>\n",
              "    <tr>\n",
              "      <th>1</th>\n",
              "      <td>2020-01-13</td>\n",
              "      <td>19.50</td>\n",
              "    </tr>\n",
              "    <tr>\n",
              "      <th>2</th>\n",
              "      <td>2020-01-14</td>\n",
              "      <td>12.09</td>\n",
              "    </tr>\n",
              "    <tr>\n",
              "      <th>3</th>\n",
              "      <td>2020-01-15</td>\n",
              "      <td>14.82</td>\n",
              "    </tr>\n",
              "    <tr>\n",
              "      <th>4</th>\n",
              "      <td>2020-01-16</td>\n",
              "      <td>18.33</td>\n",
              "    </tr>\n",
              "    <tr>\n",
              "      <th>...</th>\n",
              "      <td>...</td>\n",
              "      <td>...</td>\n",
              "    </tr>\n",
              "    <tr>\n",
              "      <th>1323</th>\n",
              "      <td>2023-08-27</td>\n",
              "      <td>32.24</td>\n",
              "    </tr>\n",
              "    <tr>\n",
              "      <th>1324</th>\n",
              "      <td>2023-08-28</td>\n",
              "      <td>42.78</td>\n",
              "    </tr>\n",
              "    <tr>\n",
              "      <th>1325</th>\n",
              "      <td>2023-08-29</td>\n",
              "      <td>34.10</td>\n",
              "    </tr>\n",
              "    <tr>\n",
              "      <th>1326</th>\n",
              "      <td>2023-08-30</td>\n",
              "      <td>48.98</td>\n",
              "    </tr>\n",
              "    <tr>\n",
              "      <th>1327</th>\n",
              "      <td>2023-08-31</td>\n",
              "      <td>44.64</td>\n",
              "    </tr>\n",
              "  </tbody>\n",
              "</table>\n",
              "<p>1328 rows × 2 columns</p>\n",
              "</div>"
            ],
            "text/plain": [
              "            date  trends\n",
              "0     2020-01-12   13.65\n",
              "1     2020-01-13   19.50\n",
              "2     2020-01-14   12.09\n",
              "3     2020-01-15   14.82\n",
              "4     2020-01-16   18.33\n",
              "...          ...     ...\n",
              "1323  2023-08-27   32.24\n",
              "1324  2023-08-28   42.78\n",
              "1325  2023-08-29   34.10\n",
              "1326  2023-08-30   48.98\n",
              "1327  2023-08-31   44.64\n",
              "\n",
              "[1328 rows x 2 columns]"
            ]
          },
          "execution_count": 79,
          "metadata": {},
          "output_type": "execute_result"
        }
      ],
      "source": [
        "final_data"
      ]
    },
    {
      "cell_type": "code",
      "execution_count": null,
      "metadata": {},
      "outputs": [],
      "source": []
    }
  ],
  "metadata": {
    "colab": {
      "provenance": []
    },
    "kernelspec": {
      "display_name": "Python 3",
      "name": "python3"
    },
    "language_info": {
      "codemirror_mode": {
        "name": "ipython",
        "version": 3
      },
      "file_extension": ".py",
      "mimetype": "text/x-python",
      "name": "python",
      "nbconvert_exporter": "python",
      "pygments_lexer": "ipython3",
      "version": "3.11.0"
    }
  },
  "nbformat": 4,
  "nbformat_minor": 0
}
